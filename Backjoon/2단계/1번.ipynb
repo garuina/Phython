{
 "cells": [
  {
   "cell_type": "code",
   "execution_count": 4,
   "metadata": {},
   "outputs": [
    {
     "name": "stdout",
     "output_type": "stream",
     "text": [
      "<\n"
     ]
    }
   ],
   "source": [
    "a, b =map(int, input().split())\n",
    "\n",
    "if a > b:\n",
    "    print(\">\")\n",
    "elif a<b:\n",
    "    print(\"<\")\n",
    "else:\n",
    "    print(\"==\")\n"
   ]
  },
  {
   "cell_type": "code",
   "execution_count": 1,
   "metadata": {},
   "outputs": [
    {
     "name": "stdout",
     "output_type": "stream",
     "text": [
      "B\n"
     ]
    }
   ],
   "source": [
    "a = int(input())\n",
    "if 90<= a <= 100:\n",
    "    print(\"A\")\n",
    "elif 80<= a <= 89:\n",
    "    print(\"B\")\n",
    "elif 70<= a <= 79:\n",
    "    print(\"C\")\n",
    "elif 60<= a <= 69:\n",
    "    print(\"D\")\n",
    "else:\n",
    "    print(\"F\")\n"
   ]
  },
  {
   "cell_type": "code",
   "execution_count": 6,
   "metadata": {},
   "outputs": [
    {
     "name": "stdout",
     "output_type": "stream",
     "text": [
      "0\n"
     ]
    }
   ],
   "source": [
    "a = int(input())\n",
    "if a%4==0  and a%100 != 0:\n",
    "    print(\"1\")\n",
    "elif a%400 == 0:\n",
    "    print(\"1\")\n",
    "else:\n",
    "    print(\"0\")\n"
   ]
  },
  {
   "cell_type": "code",
   "execution_count": null,
   "metadata": {},
   "outputs": [],
   "source": [
    "x = int(input())\n",
    "y = int(input())\n",
    "\n",
    "if x>0 and y>0:\n",
    "    print(\"1\")\n",
    "elif x<0 and y>0:\n",
    "    print(\"2\")\n",
    "elif x<0 and y<0:\n",
    "    print(\"3\")\n",
    "else:\n",
    "    print(\"4\")"
   ]
  },
  {
   "attachments": {},
   "cell_type": "markdown",
   "metadata": {},
   "source": []
  },
  {
   "cell_type": "code",
   "execution_count": 7,
   "metadata": {},
   "outputs": [
    {
     "name": "stdout",
     "output_type": "stream",
     "text": [
      "22 55\n"
     ]
    }
   ],
   "source": [
    "h, m = map(int, input().split()) \n",
    "\n",
    "if  m >= 45:\n",
    "    print(h, m-45)\n",
    "elif h>0 and m < 45:\n",
    "    print(h-1, 60-(45-m))\n",
    "elif h == 0 and m < 45:\n",
    "    print(23, 60-(45-m))\n",
    "    "
   ]
  },
  {
   "cell_type": "code",
   "execution_count": 13,
   "metadata": {},
   "outputs": [
    {
     "name": "stdout",
     "output_type": "stream",
     "text": [
      "19 -10\n"
     ]
    }
   ],
   "source": [
    "h, m = map(int, input().split()) \n",
    "c = int(input())\n",
    "a = c // 60\n",
    "b = c % 60\n",
    "\n",
    "if a + h > 23 and m+b < 60:\n",
    "    print(24-(a+h), m+b)\n",
    "elif a + h > 23 and m+b >= 60:\n",
    "    print(25-(a+h), (m+b) - 60)\n",
    "elif a + h < 23 and m+b >= 60:\n",
    "    print(h+a+1, (m+b) - 60)\n",
    "elif a + h == 23 and m+b >= 60:\n",
    "    print(h+a+1, (m+b) - 60)\n",
    "else:\n",
    "    print(h+a, m+b)"
   ]
  }
 ],
 "metadata": {
  "kernelspec": {
   "display_name": "Python 3",
   "language": "python",
   "name": "python3"
  },
  "language_info": {
   "codemirror_mode": {
    "name": "ipython",
    "version": 3
   },
   "file_extension": ".py",
   "mimetype": "text/x-python",
   "name": "python",
   "nbconvert_exporter": "python",
   "pygments_lexer": "ipython3",
   "version": "3.11.1"
  },
  "orig_nbformat": 4,
  "vscode": {
   "interpreter": {
    "hash": "ca3167030a8377a7b82d5e665b459d458267ba920e721652be188ae573e682bb"
   }
  }
 },
 "nbformat": 4,
 "nbformat_minor": 2
}
